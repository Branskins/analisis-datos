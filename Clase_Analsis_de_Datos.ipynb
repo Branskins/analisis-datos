{
  "nbformat": 4,
  "nbformat_minor": 0,
  "metadata": {
    "colab": {
      "name": "Clase Analsis de Datos",
      "provenance": [],
      "authorship_tag": "ABX9TyOJVyNnhhnryfs9eQO5cIhl",
      "include_colab_link": true
    },
    "kernelspec": {
      "name": "python3",
      "display_name": "Python 3"
    },
    "language_info": {
      "name": "python"
    }
  },
  "cells": [
    {
      "cell_type": "markdown",
      "metadata": {
        "id": "view-in-github",
        "colab_type": "text"
      },
      "source": [
        "<a href=\"https://colab.research.google.com/github/Branskins/analisis-datos/blob/main/Clase_Analsis_de_Datos.ipynb\" target=\"_parent\"><img src=\"https://colab.research.google.com/assets/colab-badge.svg\" alt=\"Open In Colab\"/></a>"
      ]
    },
    {
      "cell_type": "markdown",
      "source": [
        "**Laboratorio inicial de uso de Colab** - 2022/06/08"
      ],
      "metadata": {
        "id": "3F3A5DT1BShZ"
      }
    },
    {
      "cell_type": "code",
      "source": [
        "import pandas as pd\n",
        "import gspread\n",
        "import random\n",
        "from google.colab import auth\n",
        "from google.auth import default\n",
        "from gspread.models import Worksheet\n",
        "\n",
        "auth.authenticate_user()\n",
        "\n",
        "creds, _ = default()\n",
        "\n",
        "gc = gspread.authorize(creds)\n",
        "sh = gc.create('Andres J')"
      ],
      "metadata": {
        "id": "pnrXWzWpBlry"
      },
      "execution_count": null,
      "outputs": []
    },
    {
      "cell_type": "code",
      "source": [
        "worksheet = gc.open('Andres J').sheet1\n",
        "cell_list = worksheet.range('A1:C1')\n",
        "\n",
        "for cell in cell_list:\n",
        "  cell.value = random.randint(1, 10)\n",
        "\n",
        "worksheet.update_cells(cell_list)"
      ],
      "metadata": {
        "colab": {
          "base_uri": "https://localhost:8080/"
        },
        "id": "S89r5NJcErTK",
        "outputId": "51abf136-c40d-41d8-e545-915bf9c89f75"
      },
      "execution_count": null,
      "outputs": [
        {
          "output_type": "execute_result",
          "data": {
            "text/plain": [
              "{'spreadsheetId': '1FeBPEQ-Cy-bf9V9Sckexhv70u2t6PaIIeyJZOmhxtvE',\n",
              " 'updatedCells': 3,\n",
              " 'updatedColumns': 3,\n",
              " 'updatedRange': \"'Hoja 1'!A1:C1\",\n",
              " 'updatedRows': 1}"
            ]
          },
          "metadata": {},
          "execution_count": 10
        }
      ]
    },
    {
      "cell_type": "code",
      "source": [
        "worksheet = gc.open('Andres J').sheet1\n",
        "rows = worksheet.get_all_values()\n",
        "print(rows)"
      ],
      "metadata": {
        "colab": {
          "base_uri": "https://localhost:8080/"
        },
        "id": "s6C5hwzWH1xz",
        "outputId": "cd5d3f3d-65c0-453b-aac7-9b8d5f5e9029"
      },
      "execution_count": null,
      "outputs": [
        {
          "output_type": "stream",
          "name": "stdout",
          "text": [
            "[['1', '9', '3']]\n"
          ]
        }
      ]
    }
  ]
}